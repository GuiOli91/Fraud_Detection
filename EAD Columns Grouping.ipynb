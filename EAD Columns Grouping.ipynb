{
 "cells": [
  {
   "cell_type": "code",
   "execution_count": 50,
   "metadata": {},
   "outputs": [],
   "source": [
    "import pandas as pd\n"
   ]
  },
  {
   "cell_type": "markdown",
   "metadata": {},
   "source": [
    "# Primeiro, criar lista contendo os nomes das colunas categorias"
   ]
  },
  {
   "cell_type": "code",
   "execution_count": 17,
   "metadata": {},
   "outputs": [],
   "source": [
    "cols_t = ['TransactionID', 'TransactionDT', 'TransactionAmt',\n",
    "       'ProductCD', 'card1', 'card2', 'card3', 'card4', 'card5', 'card6',\n",
    "       'addr1', 'addr2', 'dist1', 'dist2', 'P_emaildomain', 'R_emaildomain',\n",
    "       'C1', 'C2', 'C3', 'C4', 'C5', 'C6', 'C7', 'C8', 'C9', 'C10', 'C11',\n",
    "       'C12', 'C13', 'C14', 'D1', 'D2', 'D3', 'D4', 'D5', 'D6', 'D7', 'D8',\n",
    "       'D9', 'D10', 'D11', 'D12', 'D13', 'D14', 'D15', 'M1', 'M2', 'M3', 'M4',\n",
    "       'M5', 'M6', 'M7', 'M8', 'M9']\n"
   ]
  },
  {
   "cell_type": "markdown",
   "metadata": {},
   "source": [
    "# Criar lista contendo todos os 'Vs'"
   ]
  },
  {
   "cell_type": "code",
   "execution_count": 28,
   "metadata": {},
   "outputs": [],
   "source": [
    "cols_v = [\"V\"+str(x) for x in range(1,340)];types_v = {}\n",
    "#ls = [type(item) for item in cols_v]\n",
    "#ls[:5]"
   ]
  },
  {
   "cell_type": "markdown",
   "metadata": {},
   "source": [
    "# Conveter todos os elementos e cols_v em 'float 32'"
   ]
  },
  {
   "cell_type": "code",
   "execution_count": 21,
   "metadata": {},
   "outputs": [],
   "source": [
    "for c in cols_v: types_v[c] = 'float32'\n",
    "    "
   ]
  },
  {
   "cell_type": "markdown",
   "metadata": {},
   "source": [
    "# Criar variavel com dados da transaction table, porém utilizando apenas as colunas cols_t(categoricas e de identificação), colunas V geradas no passo anterior e coluna 'isFraud'. "
   ]
  },
  {
   "cell_type": "code",
   "execution_count": 27,
   "metadata": {},
   "outputs": [
    {
     "data": {
      "text/plain": [
       "Index(['TransactionID', 'isFraud', 'TransactionDT', 'TransactionAmt',\n",
       "       'ProductCD', 'card1', 'card2', 'card3', 'card4', 'card5',\n",
       "       ...\n",
       "       'V330', 'V331', 'V332', 'V333', 'V334', 'V335', 'V336', 'V337', 'V338',\n",
       "       'V339'],\n",
       "      dtype='object', length=394)"
      ]
     },
     "execution_count": 27,
     "metadata": {},
     "output_type": "execute_result"
    }
   ],
   "source": [
    "df_train = pd.read_csv('train_transaction.csv', usecols=cols_t+['isFraud']+cols_v, dtype=types_v)\n",
    "df_train.columns\n",
    "#train = pd.read_csv('../input/ieee-fraud-detection/train_transaction.csv',usecols=cols_t+['isFraud']+cols_v,dtype=types_v)"
   ]
  },
  {
   "cell_type": "markdown",
   "metadata": {},
   "source": [
    "# Criação de tabela que verifica NaNs"
   ]
  },
  {
   "cell_type": "markdown",
   "metadata": {},
   "source": [
    "## Esse trecho agrega nomes de colunas por quantidade de NaNs."
   ]
  },
  {
   "cell_type": "code",
   "execution_count": 84,
   "metadata": {},
   "outputs": [
    {
     "name": "stdout",
     "output_type": "stream",
     "text": [
      "## NaN count = 0\n",
      "['TransactionID', 'isFraud', 'TransactionDT', 'TransactionAmt', 'ProductCD', 'card1', 'C1', 'C2', 'C3', 'C4', 'C5', 'C6', 'C7', 'C8', 'C9', 'C10', 'C11', 'C12', 'C13', 'C14']\n",
      "## NaN count = 8933\n",
      "['card2']\n",
      "## NaN count = 1565\n",
      "['card3']\n",
      "## NaN count = 1577\n",
      "['card4']\n",
      "## NaN count = 4259\n",
      "['card5']\n",
      "## NaN count = 1571\n",
      "['card6']\n",
      "## NaN count = 65706\n",
      "['addr1', 'addr2']\n",
      "## NaN count = 352271\n",
      "['dist1']\n",
      "## NaN count = 552913\n",
      "['dist2']\n",
      "## NaN count = 94456\n",
      "['P_emaildomain']\n",
      "## NaN count = 453249\n",
      "['R_emaildomain']\n",
      "## NaN count = 1269\n",
      "['D1', 'V281', 'V282', 'V283', 'V288', 'V289', 'V296', 'V300', 'V301', 'V313', 'V314', 'V315']\n",
      "## NaN count = 280797\n",
      "['D2']\n",
      "## NaN count = 262878\n",
      "['D3']\n",
      "## NaN count = 168922\n",
      "['D4']\n",
      "## NaN count = 309841\n",
      "['D5']\n",
      "## NaN count = 517353\n",
      "['D6']\n",
      "## NaN count = 551623\n",
      "['D7']\n",
      "## NaN count = 515614\n",
      "['D8', 'D9']\n",
      "## NaN count = 76022\n",
      "['D10']\n",
      "## NaN count = 279287\n",
      "['D11', 'V1', 'V2', 'V3', 'V4', 'V5', 'V6', 'V7', 'V8', 'V9', 'V10', 'V11']\n",
      "## NaN count = 525823\n",
      "['D12']\n",
      "## NaN count = 528588\n",
      "['D13']\n",
      "## NaN count = 528353\n",
      "['D14']\n",
      "## NaN count = 89113\n",
      "['D15']\n",
      "## NaN count = 271100\n",
      "['M1', 'M2', 'M3']\n",
      "## NaN count = 281444\n",
      "['M4']\n",
      "## NaN count = 350482\n",
      "['M5']\n",
      "## NaN count = 169360\n",
      "['M6']\n",
      "## NaN count = 346265\n",
      "['M7']\n",
      "## NaN count = 346252\n",
      "['M8', 'M9']\n",
      "## NaN count = 76073\n",
      "['V12', 'V13', 'V14', 'V15', 'V16', 'V17', 'V18', 'V19', 'V20', 'V21', 'V22', 'V23', 'V24', 'V25', 'V26', 'V27', 'V28', 'V29', 'V30', 'V31', 'V32', 'V33', 'V34']\n",
      "## NaN count = 168969\n",
      "['V35', 'V36', 'V37', 'V38', 'V39', 'V40', 'V41', 'V42', 'V43', 'V44', 'V45', 'V46', 'V47', 'V48', 'V49', 'V50', 'V51', 'V52']\n",
      "## NaN count = 77096\n",
      "['V53', 'V54', 'V55', 'V56', 'V57', 'V58', 'V59', 'V60', 'V61', 'V62', 'V63', 'V64', 'V65', 'V66', 'V67', 'V68', 'V69', 'V70', 'V71', 'V72', 'V73', 'V74']\n",
      "## NaN count = 89164\n",
      "['V75', 'V76', 'V77', 'V78', 'V79', 'V80', 'V81', 'V82', 'V83', 'V84', 'V85', 'V86', 'V87', 'V88', 'V89', 'V90', 'V91', 'V92', 'V93', 'V94']\n",
      "## NaN count = 314\n",
      "['V95', 'V96', 'V97', 'V98', 'V99', 'V100', 'V101', 'V102', 'V103', 'V104', 'V105', 'V106', 'V107', 'V108', 'V109', 'V110', 'V111', 'V112', 'V113', 'V114', 'V115', 'V116', 'V117', 'V118', 'V119', 'V120', 'V121', 'V122', 'V123', 'V124', 'V125', 'V126', 'V127', 'V128', 'V129', 'V130', 'V131', 'V132', 'V133', 'V134', 'V135', 'V136', 'V137']\n",
      "## NaN count = 508595\n",
      "['V138', 'V139', 'V140', 'V141', 'V142', 'V146', 'V147', 'V148', 'V149', 'V153', 'V154', 'V155', 'V156', 'V157', 'V158', 'V161', 'V162', 'V163']\n",
      "## NaN count = 508589\n",
      "['V143', 'V144', 'V145', 'V150', 'V151', 'V152', 'V159', 'V160', 'V164', 'V165', 'V166']\n",
      "## NaN count = 450909\n",
      "['V167', 'V168', 'V172', 'V173', 'V176', 'V177', 'V178', 'V179', 'V181', 'V182', 'V183', 'V186', 'V187', 'V190', 'V191', 'V192', 'V193', 'V196', 'V199', 'V202', 'V203', 'V204', 'V205', 'V206', 'V207', 'V211', 'V212', 'V213', 'V214', 'V215', 'V216']\n",
      "## NaN count = 450721\n",
      "['V169', 'V170', 'V171', 'V174', 'V175', 'V180', 'V184', 'V185', 'V188', 'V189', 'V194', 'V195', 'V197', 'V198', 'V200', 'V201', 'V208', 'V209', 'V210']\n",
      "## NaN count = 460110\n",
      "['V217', 'V218', 'V219', 'V223', 'V224', 'V225', 'V226', 'V228', 'V229', 'V230', 'V231', 'V232', 'V233', 'V235', 'V236', 'V237', 'V240', 'V241', 'V242', 'V243', 'V244', 'V246', 'V247', 'V248', 'V249', 'V252', 'V253', 'V254', 'V257', 'V258', 'V260', 'V261', 'V262', 'V263', 'V264', 'V265', 'V266', 'V267', 'V268', 'V269', 'V273', 'V274', 'V275', 'V276', 'V277', 'V278']\n",
      "## NaN count = 449124\n",
      "['V220', 'V221', 'V222', 'V227', 'V234', 'V238', 'V239', 'V245', 'V250', 'V251', 'V255', 'V256', 'V259', 'V270', 'V271', 'V272']\n",
      "## NaN count = 12\n",
      "['V279', 'V280', 'V284', 'V285', 'V286', 'V287', 'V290', 'V291', 'V292', 'V293', 'V294', 'V295', 'V297', 'V298', 'V299', 'V302', 'V303', 'V304', 'V305', 'V306', 'V307', 'V308', 'V309', 'V310', 'V311', 'V312', 'V316', 'V317', 'V318', 'V319', 'V320', 'V321']\n",
      "## NaN count = 508189\n",
      "['V322', 'V323', 'V324', 'V325', 'V326', 'V327', 'V328', 'V329', 'V330', 'V331', 'V332', 'V333', 'V334', 'V335', 'V336', 'V337', 'V338', 'V339']\n"
     ]
    }
   ],
   "source": [
    "import gc\n",
    "nans_df = df_train.isna()\n",
    "nans_groups={}\n",
    "i_cols = ['V'+str(i) for i in range(1,340)]\n",
    "\n",
    "\n",
    "for col in df_train.columns:\n",
    "    cur_group = nans_df[col].sum()\n",
    "    try:\n",
    "        nans_groups[cur_group].append(col)\n",
    "    except:\n",
    "        nans_groups[cur_group] = [col]\n",
    "del nans_df; x=gc.collect()\n",
    "\n",
    "\n",
    "for k, v in nans_groups.items():\n",
    "    print('## NaN count =', k)\n",
    "    print(v)\n"
   ]
  },
  {
   "cell_type": "markdown",
   "metadata": {},
   "source": [
    "# 1. Iniciando pelo agregado V1 - V11 + D11"
   ]
  },
  {
   "cell_type": "code",
   "execution_count": 94,
   "metadata": {},
   "outputs": [],
   "source": [
    "Vc = ['dayr','isFraud','TransactionAmt','card1','addr1','D1n','D11n']\n",
    "Vs = nans_groups[279287] #Separando o grupo pela chave (nesse caso é a quantidade de itens com esse numero de NaNs\n",
    "Vtitle = 'V1 - V11, D11'"
   ]
  },
  {
   "cell_type": "markdown",
   "metadata": {},
   "source": [
    "# Criar função para plotar - CONFIRMAR"
   ]
  },
  {
   "cell_type": "code",
   "execution_count": null,
   "metadata": {},
   "outputs": [],
   "source": [
    "import matplotlib\n",
    "import numpy as np\n",
    "def make_plots(Vs)\n",
    "    col = 4\n",
    "    row = len(Vs)//4+1\n",
    "    plt.figure(figsite =(20, row*5))\n",
    "    idx = df_train[~df_train[Vs[0]].isna()].index # Marca os indices de df_train[D1] que são NaN. Será utilizado para calculo posterior\n",
    "    for i, v in enumarate(Vs):\n",
    "        #plt.subplot(row, col, i+1)\n",
    "        n = df_train[v].nunique() # \n",
    "        x =  np.sum(df_train.loc[idx,v]!=df_train.loc[idx,v].astype(int)) #"
   ]
  },
  {
   "cell_type": "code",
   "execution_count": null,
   "metadata": {},
   "outputs": [],
   "source": [
    "def make_plots(Vs):\n",
    "    col = 4\n",
    "    row = len(Vs)//4+1\n",
    "    plt.figure(figsize=(20,row*5))\n",
    "    idx = train[~train[Vs[0]].isna()].index\n",
    "    for i,v in enumerate(Vs):\n",
    "        plt.subplot(row,col,i+1)\n",
    "        n = train[v].nunique()\n",
    "        x = np.sum(train.loc[idx,v]!=train.loc[idx,v].astype(int))\n",
    "        y = np.round(100*np.sum(train[v].isna())/len(train),2)\n",
    "        t = 'int'\n",
    "        if x!=0: t = 'float'\n",
    "        plt.title(v+' has '+str(n)+' '+t+' and '+str(y)+'% nan')\n",
    "        plt.yticks([])\n",
    "        h = plt.hist(train.loc[idx,v],bins=100)\n",
    "        if len(h[0])>1: plt.ylim((0,np.sort(h[0])[-2]))\n",
    "    plt.show()\n",
    "make_plots(Vs)"
   ]
  },
  {
   "cell_type": "code",
   "execution_count": 95,
   "metadata": {},
   "outputs": [
    {
     "data": {
      "text/plain": [
       "'D11'"
      ]
     },
     "execution_count": 95,
     "metadata": {},
     "output_type": "execute_result"
    }
   ],
   "source": [
    "Vs[0]"
   ]
  }
 ],
 "metadata": {
  "kernelspec": {
   "display_name": "Python 3",
   "language": "python",
   "name": "python3"
  },
  "language_info": {
   "codemirror_mode": {
    "name": "ipython",
    "version": 3
   },
   "file_extension": ".py",
   "mimetype": "text/x-python",
   "name": "python",
   "nbconvert_exporter": "python",
   "pygments_lexer": "ipython3",
   "version": "3.8.5"
  }
 },
 "nbformat": 4,
 "nbformat_minor": 4
}
